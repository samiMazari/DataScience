{
 "cells": [
  {
   "cell_type": "markdown",
   "id": "db14d1aa-4896-4d9c-8ce3-a416b8e12b01",
   "metadata": {},
   "source": [
    "# Creating Different Types of Plots in Python\n",
    "\n",
    "Visualizations play a key role in data analysis. In this reading, you'll be introduced to various forms of graphs and plots that you can create with your data in Python that help you in visualising your data for better analysis.\n",
    "\n",
    "The two major libraries used to create plots are **matplotlib** and **seaborn**. We will learn the prominent plotting functions of both these libraries as applicable to Data Analysis."
   ]
  },
  {
   "cell_type": "markdown",
   "id": "9a0b25d6-92a8-4cf1-a7db-577aa9736bb7",
   "metadata": {},
   "source": [
    "## Importing libraries\n",
    "You can import the above mentioned libraries as shown below.\n",
    "\n",
    "### a. matplotlib"
   ]
  },
  {
   "cell_type": "code",
   "execution_count": 1,
   "id": "3a1c2310-a273-4a53-8d94-a4fb3ba6c399",
   "metadata": {},
   "outputs": [],
   "source": [
    "from matplotlib import pyplot as plt"
   ]
  },
  {
   "cell_type": "markdown",
   "id": "4597f1b4-176b-48c9-a793-56f9543faaf7",
   "metadata": {},
   "source": [
    "Alternatively, the command can also be written as:"
   ]
  },
  {
   "cell_type": "code",
   "execution_count": 2,
   "id": "32a21d23-2d38-45cb-abf9-f381041c73f4",
   "metadata": {},
   "outputs": [],
   "source": [
    "import matplotlib.pyplot as plt"
   ]
  },
  {
   "cell_type": "markdown",
   "id": "0b9b0f70-26e4-47ad-9e46-754822603c60",
   "metadata": {},
   "source": [
    "- Note that most of the plots that are of interest to us in this library are contained in the **pyplot** subfolder of the package.\n",
    "\n",
    "- **matplotlib** functions return a plot object which requires additional statements to display. While using **matplotlib** in Jupyter Notebooks, we require the graph to be displayed inside the notebook interface itself. It is, therefore, essential to add the following 'magic' statement after loading the library."
   ]
  },
  {
   "cell_type": "code",
   "execution_count": 3,
   "id": "4a56f6b8-1be6-46f2-a4e9-bc41e9ec71c8",
   "metadata": {},
   "outputs": [],
   "source": [
    "%matplotlib inline"
   ]
  },
  {
   "cell_type": "markdown",
   "id": "06c8cb74-536a-4085-a3c4-7654d315b6d5",
   "metadata": {},
   "source": [
    "### b. seaborn\n",
    "Seaborn is usually imported in a code using the following statement:"
   ]
  },
  {
   "cell_type": "code",
   "execution_count": 4,
   "id": "385b14b5-15c9-484b-9162-2432f89e8f2e",
   "metadata": {},
   "outputs": [],
   "source": [
    "import seaborn as sns"
   ]
  },
  {
   "cell_type": "markdown",
   "id": "dfeddd84-86b7-4b09-8645-e83ec58b5f47",
   "metadata": {},
   "source": [
    "## matplotlib functions\n",
    "### 1. Standard Line Plot\n",
    "\n",
    "The simplest and most fundamental plot is a standard line plot. The function expects two arrays as input, **x** and **y**, both of the same size. **x** is treated as an independent variable and **y** as the dependent one. The graph is plotted as shortest line segments joining the **x**,**y** point pairs ordered in terms of the variable **x**."
   ]
  },
  {
   "cell_type": "code",
   "execution_count": null,
   "id": "1779ae76-aef0-4b5b-a036-d91de42e8235",
   "metadata": {},
   "outputs": [],
   "source": [
    "plt.plot(x,y)"
   ]
  },
  {
   "cell_type": "markdown",
   "id": "7e344328-2f45-4e31-98a8-034dcb58a2df",
   "metadata": {},
   "source": [
    "A sample plot is shown in the image below."
   ]
  },
  {
   "cell_type": "markdown",
   "id": "bc0ff070-f3b7-4f61-93af-f45f9b9543ed",
   "metadata": {},
   "source": [
    "![description](Sample1.png)"
   ]
  },
  {
   "cell_type": "markdown",
   "id": "2465231d-2363-4289-8b26-5f1f35e8e107",
   "metadata": {},
   "source": [
    "### 2. Scatter plot\n",
    "\n",
    "Scatter plots are graphs that present the relationship between two variables in a data set. It represents data points on a two-dimensional plane. The independent variable or attribute is plotted on the X-axis, while the dependent variable is plotted on the Y-axis.\n",
    "\n",
    "Scatter plots are used in either of the following situations:\n",
    "\n",
    "- When we have paired numerical data\n",
    "- When there are multiple values of the dependent variable for a unique value of an independent variable\n",
    "- In determining the relationship between variables in some scenarios   \n",
    "Syntax:"
   ]
  },
  {
   "cell_type": "code",
   "execution_count": null,
   "id": "0a364138-fcdb-4263-9e18-e929e8664147",
   "metadata": {},
   "outputs": [],
   "source": [
    "plt.scatter(x,y)"
   ]
  },
  {
   "cell_type": "markdown",
   "id": "0a34babf-702c-4553-881d-bb3cbafe1f79",
   "metadata": {},
   "source": [
    "Here, **x** contains the independent variable, and **y** contains the dependent variable. You have the option to change the size, color, and shape of the markers with additional attributes in the function.      \n",
    "A sample scatter plot is shared below."
   ]
  },
  {
   "cell_type": "markdown",
   "id": "8983cd1b-0247-4163-84c1-eae093f066cf",
   "metadata": {},
   "source": [
    "![description](Sample2.png)"
   ]
  },
  {
   "cell_type": "markdown",
   "id": "5b5f3eb6-1d06-4920-9d07-e637b5dc6c96",
   "metadata": {},
   "source": [
    "### 3. Histogram\n",
    "\n",
    "A histogram is an important visual representation of data in categorical form. To view the data in a \"Binned\" form, we may use the histogram plot with a number of bins required or even with the data points that mark the bin edges. The x-axis represents the data bins, and the y-axis represents the number of elements in each of the bins.\n",
    "\n",
    "Syntax:"
   ]
  },
  {
   "cell_type": "code",
   "execution_count": null,
   "id": "36a1be89-5384-4ffd-8eca-5351488fa658",
   "metadata": {},
   "outputs": [],
   "source": [
    "plt.hist(x,bins)"
   ]
  },
  {
   "cell_type": "markdown",
   "id": "00547768-9106-4dc6-b9f1-7cd3beb2b14f",
   "metadata": {},
   "source": [
    "An example of a histogram plot is shown below. Use an additional argument, **edgecolor**, for better clarity of plot.   \n",
    "Consider the graph shown below. The left graph is the histogram plot for a data set, plotted without setting the **edgecolor**. The right one is the same graph but has the **edgecolor** argument set as the color black."
   ]
  },
  {
   "cell_type": "markdown",
   "id": "0c3794e0-d8cc-4cca-b720-739e37a21cf9",
   "metadata": {},
   "source": [
    "![description](Sample3.png)"
   ]
  },
  {
   "cell_type": "markdown",
   "id": "fbce236a-171b-466a-9776-b4b2f9e4ee22",
   "metadata": {},
   "source": [
    "###  4. Bar plot\n",
    "\n",
    "A bar plot is used for visualizing catogorical data. The y-axis represents the average value of data points belonging to a particular category, while the x-axis represents the number of elements in the different categories.\n",
    "\n",
    "Syntax:"
   ]
  },
  {
   "cell_type": "code",
   "execution_count": null,
   "id": "4330b62e-6a3c-4330-a7a8-4f12e3c6512c",
   "metadata": {},
   "outputs": [],
   "source": [
    "plt.bar(x,height)"
   ]
  },
  {
   "cell_type": "markdown",
   "id": "0ee2c016-e8b0-4ea6-b508-ea66807a0b35",
   "metadata": {},
   "source": [
    "Here, x is the categorical variable, and height is the number of values belonging to the category. You can adjust the width of each bin using an additional width argument in the function.\n",
    "\n",
    "A sample graph is shown below."
   ]
  },
  {
   "cell_type": "markdown",
   "id": "80dc4a75-fd81-428e-a3a1-eec2afc2a477",
   "metadata": {},
   "source": [
    "![description](Sample4.png)"
   ]
  },
  {
   "cell_type": "markdown",
   "id": "f54cb440-bfdc-47cb-abef-0271a54e49b0",
   "metadata": {},
   "source": [
    "### 5. Pseudo Color Plot\n",
    "\n",
    "A pseudocolor plot displays matrix data as an array of colored cells (known as faces). This plot is created as a flat surface in the x-y plane. The surface is defined by a grid of x and y coordinates that correspond to the corners (or vertices) of the faces. Matrix C specifies the colors at the vertices. The color of each face depends on the color of one of its four surrounding vertices. Of the four vertices, the one that comes first in the x-y grid determines the color of the face.\n",
    "\n",
    "In this course, you use the pcolor plot for visualizing the contents of a pivot table that has been grouped on the basis of 2 parameters. Those parameters then represent the x and y-axis components that create the grid. The values in the pivot table are the average values of a third parameter. These values act as the code for the color the cell is going to take.\n",
    "\n",
    "Syntax:"
   ]
  },
  {
   "cell_type": "code",
   "execution_count": null,
   "id": "5938a0a5-9608-4362-828e-e322f4969f08",
   "metadata": {},
   "outputs": [],
   "source": [
    "plt.pcolor(C)"
   ]
  },
  {
   "cell_type": "markdown",
   "id": "75e56889-9f18-4a0f-894a-714620c530ad",
   "metadata": {},
   "source": [
    "You can define an additional cmap argument to specify the color scheme of the plot.\n",
    "\n",
    "Two sample pcolor plots are shown below, created for same data but for different color schemes."
   ]
  },
  {
   "cell_type": "markdown",
   "id": "5e4b42f3-b588-49cc-af9e-7cfd955cd56e",
   "metadata": {},
   "source": [
    "![description](Sample5.png)"
   ]
  },
  {
   "cell_type": "markdown",
   "id": "da76c04d-7b31-44fc-887a-811fa65f2132",
   "metadata": {},
   "source": [
    "## seaborn functions\n",
    "### 1. Regression plot\n",
    "\n",
    "A regression plot draws a scatter plot of two variables, x and y, and then fits the regression model and plots the resulting regression line along with a 95% confidence interval for that regression. The x and y parameters can be shared as the dataframe headers to be used, and the data frame itself is passed to the function as well.\n",
    "\n",
    "Syntax:"
   ]
  },
  {
   "cell_type": "code",
   "execution_count": null,
   "id": "d23489fb-d73f-497b-a970-cbe2cf7e1ee2",
   "metadata": {},
   "outputs": [],
   "source": [
    "sns.regplot(x = 'header_1',y = 'header_2',data= df)"
   ]
  },
  {
   "cell_type": "markdown",
   "id": "4ab1a2d8-5639-44b5-809e-a7ec2c5c8e55",
   "metadata": {},
   "source": [
    "![description](Sample6.png)"
   ]
  },
  {
   "cell_type": "markdown",
   "id": "bc0a06bb-6aa5-4a83-a117-02546be529ef",
   "metadata": {},
   "source": [
    "### 2. Box and whisker plot\n",
    "\n",
    "A box plot (or box-and-whisker plot) shows the distribution of quantitative data in a way that facilitates comparisons between variables or across levels of a categorical variable. The box shows the quartiles of the dataset while the whiskers extend to show the rest of the distribution, except for points that are determined to be \"outliers\".\n",
    "\n",
    "Consider the Box and whisker plot interpretation figure shown below."
   ]
  },
  {
   "cell_type": "markdown",
   "id": "d545efb2-6c09-433e-a2c7-7b045dc35fb2",
   "metadata": {},
   "source": [
    "![ds](Sample7.png)"
   ]
  },
  {
   "cell_type": "markdown",
   "id": "319d383e-3738-4310-a885-268e3f2700b3",
   "metadata": {},
   "source": [
    "![](SampleX.png)"
   ]
  },
  {
   "cell_type": "markdown",
   "id": "bc9dddaa-e3ab-4cdc-b074-280fa79d4c45",
   "metadata": {},
   "source": [
    "The plot uses whiskers to represent Minimum value to 25% quartile data and 75% quartile to Maximum value data. The range between 25% quartile and 75% quartile is considered as the Inter-Quartile Range. Outliers are generally classified as being outside 1.5 times the interquartile range.\n",
    "\n",
    "A sample box plot is shown below"
   ]
  },
  {
   "cell_type": "markdown",
   "id": "73bbce57-a113-431a-8858-c69ee89a0104",
   "metadata": {},
   "source": [
    "![ds](Sample8.png)"
   ]
  },
  {
   "cell_type": "markdown",
   "id": "acefa5b3-7451-435f-9f64-11aee4d3f48c",
   "metadata": {},
   "source": [
    "### 3. Residual Plot\n",
    "\n",
    "A residual plot is used to display the quality of polynomial regression. This function will regress y on x as a polynomial regression and then draw a scatterplot of the residuals.\n",
    "Residuals are the differences between the observed values of the dependent variable and the predicted values obtained from the regression model. In other words, a residual is a measure of how much a regression line vertically misses a data point, meaning how far off the predictions are from the actual data points.\n",
    "\n",
    "Syntax:"
   ]
  },
  {
   "cell_type": "code",
   "execution_count": null,
   "id": "d3730dc7-6e67-498f-8567-ab47f2ff6fba",
   "metadata": {},
   "outputs": [],
   "source": [
    "sns.residplot(data=df,x='header_1', y='header_2')"
   ]
  },
  {
   "cell_type": "markdown",
   "id": "00ee9007-6e73-4d81-a080-2d52b212f8b8",
   "metadata": {},
   "source": [
    "Alternatively:"
   ]
  },
  {
   "cell_type": "code",
   "execution_count": null,
   "id": "7f579e07-e179-4f51-a8ff-bfd1e3cf2e9c",
   "metadata": {},
   "outputs": [],
   "source": [
    "sns.residplot(x=df['header_1'], y=df['header_2'])"
   ]
  },
  {
   "cell_type": "markdown",
   "id": "a37e6a62-27f9-4e80-a217-28b3845d3aae",
   "metadata": {},
   "source": [
    "![](Sample9.png)"
   ]
  },
  {
   "cell_type": "markdown",
   "id": "8386e64b-be98-4081-b194-454ec3760f70",
   "metadata": {},
   "source": [
    "### 4. KDE plot\n",
    "\n",
    "A Kernel Density Estimate (KDE) plot is a graph that creates a probability distribution curve for the data based upon its likelihood of occurrence on a specific value. This is created for a single vector of information. It is used in the course in order to compare the likely curves of the actual data with that of the predicted data.\n",
    "\n",
    "Syntax:"
   ]
  },
  {
   "cell_type": "code",
   "execution_count": null,
   "id": "2e77ce83-79c5-48fc-9cdc-409ee36038f3",
   "metadata": {},
   "outputs": [],
   "source": [
    "sns.kdeplot(X)"
   ]
  },
  {
   "cell_type": "markdown",
   "id": "1366361e-435c-4c23-85f9-ffff0cad2d5a",
   "metadata": {},
   "source": [
    "A sample graph made for a random set of values is shown below."
   ]
  },
  {
   "cell_type": "markdown",
   "id": "bc3712f5-2222-4c1c-a151-53da7632f19a",
   "metadata": {},
   "source": [
    "![](Sample10.png)"
   ]
  },
  {
   "cell_type": "markdown",
   "id": "3d7ccdec-07b1-49fc-ad7b-2e92d252a89e",
   "metadata": {},
   "source": [
    "### 5. Distribution Plot\n",
    "\n",
    "This plot has the capacity to combine the histogram and the KDE plots. This plot creates the distribution curve using the bins of the histogram as a reference for estimation. You can optionally keep or discard the histogram from being displayed. In the context of the course, this plot can be used interchangeably with the KDE plot.\n",
    "\n",
    "Syntax:"
   ]
  },
  {
   "cell_type": "code",
   "execution_count": null,
   "id": "8c039c53-db07-492b-8a33-7f0066f312ac",
   "metadata": {},
   "outputs": [],
   "source": [
    "sns.distplot(X,hist=False)"
   ]
  },
  {
   "cell_type": "markdown",
   "id": "d57eb009-fded-459c-9a59-9c6501680fc5",
   "metadata": {},
   "source": [
    "Here, keeping the argument **hist** as **True** would plot the histogram along with the distribution plot. Both variations are shown in the image below."
   ]
  },
  {
   "cell_type": "markdown",
   "id": "17c44f36-6787-4aa7-9677-894678413878",
   "metadata": {},
   "source": [
    "![](Sample11.png)"
   ]
  },
  {
   "cell_type": "markdown",
   "id": "1f57ea0e-5b2a-460c-bd59-c767c4b231b9",
   "metadata": {},
   "source": [
    "## Conclusion\n",
    "This concludes the summary of the different types of plots being used in this course for the purpose of visualization."
   ]
  },
  {
   "cell_type": "markdown",
   "id": "2e31846e-0b44-4ac0-8bcf-0c5606fcf473",
   "metadata": {},
   "source": [
    "---"
   ]
  }
 ],
 "metadata": {
  "kernelspec": {
   "display_name": "Python 3 (ipykernel)",
   "language": "python",
   "name": "python3"
  },
  "language_info": {
   "codemirror_mode": {
    "name": "ipython",
    "version": 3
   },
   "file_extension": ".py",
   "mimetype": "text/x-python",
   "name": "python",
   "nbconvert_exporter": "python",
   "pygments_lexer": "ipython3",
   "version": "3.12.7"
  }
 },
 "nbformat": 4,
 "nbformat_minor": 5
}
